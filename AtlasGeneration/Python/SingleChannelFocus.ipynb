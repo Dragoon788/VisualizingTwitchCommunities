{
 "cells": [
  {
   "cell_type": "code",
   "execution_count": 30,
   "metadata": {},
   "outputs": [],
   "source": [
    "import sqlalchemy as sql\n",
    "import os\n",
    "from dotenv import load_dotenv\n",
    "import networkx as nx\n",
    "from matplotlib import pyplot as plt\n",
    "load_dotenv()\n",
    "\n",
    "FOCUS_CHANNEL = 'caedrel'"
   ]
  },
  {
   "cell_type": "code",
   "execution_count": 31,
   "metadata": {},
   "outputs": [
    {
     "name": "stderr",
     "output_type": "stream",
     "text": [
      "c:\\Code\\VisualizingTwitchCommunities\\env\\lib\\site-packages\\cockroachdb\\sqlalchemy\\dialect.py:376: SAWarning: Dialect cockroachdb:psycopg2 will not make use of SQL compilation caching as it does not set the 'supports_statement_cache' attribute to ``True``.  This can have significant performance implications including some performance degradations in comparison to prior SQLAlchemy versions.  Dialect maintainers should seek to set this attribute to True after appropriate development and testing for SQLAlchemy 1.4 caching support.   Alternatively, this attribute may be set to False which will disable this warning. (Background on this error at: https://sqlalche.me/e/14/cprf)\n",
      "  return super(CockroachDBDialect, self).get_pk_constraint(conn, table_name, schema, **kw)\n"
     ]
    }
   ],
   "source": [
    "#Connect to database\n",
    "engine = sql.create_engine(os.environ.get(\"DB_URL\"))\n",
    "metadata_obj = sql.MetaData()\n",
    "overlaps_table = sql.Table(\"channel_overlaps\", metadata_obj, autoload_with=engine)"
   ]
  },
  {
   "cell_type": "code",
   "execution_count": 32,
   "metadata": {},
   "outputs": [],
   "source": [
    "#Get graph for specified batch\n",
    "batch_id = 7\n",
    "stmt = sql.select(overlaps_table.c.source, overlaps_table.c.target, overlaps_table.c.weight).where(overlaps_table.c.batch_id == batch_id)\n",
    "with engine.connect() as conn:\n",
    "    edges = conn.execute(stmt).fetchall()\n",
    "\n",
    "# Create network\n",
    "network_data = [(source, target, {'weight': weight}) for source, target, weight in edges]\n",
    "G = nx.from_edgelist(network_data)"
   ]
  },
  {
   "cell_type": "code",
   "execution_count": 33,
   "metadata": {},
   "outputs": [],
   "source": [
    "#Helper function to get the n highest overlap edges for a particular channel\n",
    "def get_top_n_edges(edges, channel, n):\n",
    "    focus_edges = [edge for edge in edges if edge[0] == channel or edge[1] == channel]\n",
    "    focus_edges = sorted(focus_edges, key=lambda x: x[2], reverse=True)\n",
    "    return focus_edges[:n]"
   ]
  },
  {
   "cell_type": "code",
   "execution_count": 34,
   "metadata": {},
   "outputs": [],
   "source": [
    "#Discover channels to be put on graph\n",
    "decays = [100, 10] #Find 100 highest overlaps, then find highest 10 overlaps for each channel discovered\n",
    "depth = len(decays)\n",
    "\n",
    "#Keep track of which level of decay channels were discovered at\n",
    "orbits = [[] for _ in range(depth + 1)]\n",
    "orbits[0].append(FOCUS_CHANNEL)\n",
    "\n",
    "discovered_channels = set()\n",
    "discovered_channels.add(FOCUS_CHANNEL)\n",
    "\n",
    "filtered_edgelist = []\n",
    "\n",
    "#Discover channels and edges\n",
    "for level in range(depth):\n",
    "    n = decays[level]\n",
    "    for channel in orbits[level]:\n",
    "        discovered_edges = get_top_n_edges(edges, channel, n)\n",
    "        for edge in discovered_edges:\n",
    "            linked_channel = edge[0]\n",
    "            if edge[0] == channel:\n",
    "                linked_channel = edge[1]\n",
    "\n",
    "            assert(linked_channel != channel)\n",
    "\n",
    "            filtered_edgelist.append((channel, linked_channel, edge[2]))\n",
    "            if(linked_channel not in discovered_channels):\n",
    "                orbits[level+1].append(linked_channel)\n",
    "                discovered_channels.add(linked_channel)"
   ]
  },
  {
   "cell_type": "code",
   "execution_count": 35,
   "metadata": {},
   "outputs": [
    {
     "data": {
      "text/plain": [
       "1100"
      ]
     },
     "execution_count": 35,
     "metadata": {},
     "output_type": "execute_result"
    }
   ],
   "source": [
    "len(filtered_edgelist)"
   ]
  },
  {
   "cell_type": "code",
   "execution_count": 36,
   "metadata": {},
   "outputs": [],
   "source": [
    "#Map from channel name to orbit (Orbits are the level of connection to FOCUS_CHANNEL. FOCUS_CHANNEL will have a value of 0)\n",
    "channel_orbit_map = {}\n",
    "for i in range(len(orbits)):\n",
    "    for channel in orbits[i]:\n",
    "        channel_orbit_map[channel] = i"
   ]
  },
  {
   "cell_type": "code",
   "execution_count": 37,
   "metadata": {},
   "outputs": [
    {
     "data": {
      "text/plain": [
       "186"
      ]
     },
     "execution_count": 37,
     "metadata": {},
     "output_type": "execute_result"
    }
   ],
   "source": [
    "#Filter original graph to only discovered channels \n",
    "def filter_node(n1):\n",
    "    return n1 in discovered_channels\n",
    "\n",
    "network_data = [(source, target, {'weight': weight}) for source, target, weight in filtered_edgelist]\n",
    "F = nx.subgraph_view(G, filter_node=filter_node)\n",
    "len(F.nodes())"
   ]
  },
  {
   "cell_type": "code",
   "execution_count": 38,
   "metadata": {},
   "outputs": [],
   "source": [
    "#Get channel info for watch hours\n",
    "channels_table = sql.Table(\"channels\", metadata_obj, autoload_with=engine)\n",
    "stmt = sql.select(channels_table.c.url_name, channels_table.c.view_minutes)\n",
    "with engine.connect() as conn:\n",
    "    res = conn.execute(stmt).fetchall()\n",
    "\n",
    "#Create map from channel to watch hours\n",
    "channel_watch_mins_map = {channel: {'watch_minutes': watch_minutes} for channel, watch_minutes in res}"
   ]
  },
  {
   "cell_type": "code",
   "execution_count": 26,
   "metadata": {},
   "outputs": [
    {
     "name": "stdout",
     "output_type": "stream",
     "text": [
      "14550\n"
     ]
    }
   ],
   "source": [
    "#Filter all edges that do not connect to FOCUS_CHANNEL only keeping those above non_focus_threshold \n",
    "non_focus_threshold = 10000\n",
    "cutoff_edges = []\n",
    "X = F.copy()\n",
    "for u,v,d in X.edges(data=True):\n",
    "    if(u == FOCUS_CHANNEL):\n",
    "        is_focus_edge = True\n",
    "    elif(v == FOCUS_CHANNEL):\n",
    "        is_focus_edge = True\n",
    "    else:\n",
    "        is_focus_edge = False\n",
    "    \n",
    "    if(not is_focus_edge and d['weight'] < non_focus_threshold):\n",
    "        cutoff_edges.append((u,v))\n",
    "\n",
    "    \n",
    "    \n",
    "print(len(cutoff_edges))\n",
    "X.remove_edges_from(cutoff_edges)\n",
    "F = X"
   ]
  },
  {
   "cell_type": "code",
   "execution_count": 29,
   "metadata": {},
   "outputs": [
    {
     "ename": "ValueError",
     "evalue": "s must be a scalar, or float array-like with the same size as x and y",
     "output_type": "error",
     "traceback": [
      "\u001b[1;31m---------------------------------------------------------------------------\u001b[0m",
      "\u001b[1;31mValueError\u001b[0m                                Traceback (most recent call last)",
      "Cell \u001b[1;32mIn[29], line 8\u001b[0m\n\u001b[0;32m      5\u001b[0m weights \u001b[38;5;241m=\u001b[39m [F[u][v][\u001b[38;5;124m'\u001b[39m\u001b[38;5;124mweight\u001b[39m\u001b[38;5;124m'\u001b[39m] \u001b[38;5;28;01mfor\u001b[39;00m u,v \u001b[38;5;129;01min\u001b[39;00m edges]\n\u001b[0;32m      7\u001b[0m plt\u001b[38;5;241m.\u001b[39mfigure(\u001b[38;5;241m3\u001b[39m,figsize\u001b[38;5;241m=\u001b[39m(\u001b[38;5;241m12\u001b[39m,\u001b[38;5;241m12\u001b[39m))\n\u001b[1;32m----> 8\u001b[0m \u001b[43mnx\u001b[49m\u001b[38;5;241;43m.\u001b[39;49m\u001b[43mdraw\u001b[49m\u001b[43m(\u001b[49m\u001b[43mF\u001b[49m\u001b[43m,\u001b[49m\u001b[43m \u001b[49m\u001b[43mpos\u001b[49m\u001b[43m,\u001b[49m\u001b[43m \u001b[49m\u001b[43mnode_size\u001b[49m\u001b[38;5;241;43m=\u001b[39;49m\u001b[43m[\u001b[49m\u001b[43mv\u001b[49m\u001b[43m \u001b[49m\u001b[38;5;241;43m*\u001b[39;49m\u001b[43m \u001b[49m\u001b[38;5;241;43m0.000001\u001b[39;49m\u001b[43m \u001b[49m\u001b[38;5;28;43;01mfor\u001b[39;49;00m\u001b[43m \u001b[49m\u001b[43mv\u001b[49m\u001b[43m \u001b[49m\u001b[38;5;129;43;01min\u001b[39;49;00m\u001b[43m \u001b[49m\u001b[43md\u001b[49m\u001b[38;5;241;43m.\u001b[39;49m\u001b[43mvalues\u001b[49m\u001b[43m(\u001b[49m\u001b[43m)\u001b[49m\u001b[43m]\u001b[49m\u001b[43m,\u001b[49m\u001b[43m \u001b[49m\u001b[43mwidth\u001b[49m\u001b[38;5;241;43m=\u001b[39;49m\u001b[43m[\u001b[49m\u001b[43mw\u001b[49m\u001b[43m \u001b[49m\u001b[38;5;241;43m*\u001b[39;49m\u001b[43m \u001b[49m\u001b[38;5;241;43m0.0001\u001b[39;49m\u001b[43m \u001b[49m\u001b[38;5;28;43;01mfor\u001b[39;49;00m\u001b[43m \u001b[49m\u001b[43mw\u001b[49m\u001b[43m \u001b[49m\u001b[38;5;129;43;01min\u001b[39;49;00m\u001b[43m \u001b[49m\u001b[43mweights\u001b[49m\u001b[43m]\u001b[49m\u001b[43m,\u001b[49m\u001b[43m \u001b[49m\u001b[43mwith_labels\u001b[49m\u001b[38;5;241;43m=\u001b[39;49m\u001b[38;5;28;43;01mTrue\u001b[39;49;00m\u001b[43m)\u001b[49m\n",
      "File \u001b[1;32mc:\\Code\\VisualizingTwitchCommunities\\env\\lib\\site-packages\\networkx\\drawing\\nx_pylab.py:121\u001b[0m, in \u001b[0;36mdraw\u001b[1;34m(G, pos, ax, **kwds)\u001b[0m\n\u001b[0;32m    <a href='file:///c%3A/Code/VisualizingTwitchCommunities/env/lib/site-packages/networkx/drawing/nx_pylab.py?line=117'>118</a>\u001b[0m \u001b[39mif\u001b[39;00m \u001b[39m\"\u001b[39m\u001b[39mwith_labels\u001b[39m\u001b[39m\"\u001b[39m \u001b[39mnot\u001b[39;00m \u001b[39min\u001b[39;00m kwds:\n\u001b[0;32m    <a href='file:///c%3A/Code/VisualizingTwitchCommunities/env/lib/site-packages/networkx/drawing/nx_pylab.py?line=118'>119</a>\u001b[0m     kwds[\u001b[39m\"\u001b[39m\u001b[39mwith_labels\u001b[39m\u001b[39m\"\u001b[39m] \u001b[39m=\u001b[39m \u001b[39m\"\u001b[39m\u001b[39mlabels\u001b[39m\u001b[39m\"\u001b[39m \u001b[39min\u001b[39;00m kwds\n\u001b[1;32m--> <a href='file:///c%3A/Code/VisualizingTwitchCommunities/env/lib/site-packages/networkx/drawing/nx_pylab.py?line=120'>121</a>\u001b[0m draw_networkx(G, pos\u001b[39m=\u001b[39;49mpos, ax\u001b[39m=\u001b[39;49max, \u001b[39m*\u001b[39;49m\u001b[39m*\u001b[39;49mkwds)\n\u001b[0;32m    <a href='file:///c%3A/Code/VisualizingTwitchCommunities/env/lib/site-packages/networkx/drawing/nx_pylab.py?line=121'>122</a>\u001b[0m ax\u001b[39m.\u001b[39mset_axis_off()\n\u001b[0;32m    <a href='file:///c%3A/Code/VisualizingTwitchCommunities/env/lib/site-packages/networkx/drawing/nx_pylab.py?line=122'>123</a>\u001b[0m plt\u001b[39m.\u001b[39mdraw_if_interactive()\n",
      "File \u001b[1;32mc:\\Code\\VisualizingTwitchCommunities\\env\\lib\\site-packages\\networkx\\drawing\\nx_pylab.py:303\u001b[0m, in \u001b[0;36mdraw_networkx\u001b[1;34m(G, pos, arrows, with_labels, **kwds)\u001b[0m\n\u001b[0;32m    <a href='file:///c%3A/Code/VisualizingTwitchCommunities/env/lib/site-packages/networkx/drawing/nx_pylab.py?line=299'>300</a>\u001b[0m \u001b[39mif\u001b[39;00m pos \u001b[39mis\u001b[39;00m \u001b[39mNone\u001b[39;00m:\n\u001b[0;32m    <a href='file:///c%3A/Code/VisualizingTwitchCommunities/env/lib/site-packages/networkx/drawing/nx_pylab.py?line=300'>301</a>\u001b[0m     pos \u001b[39m=\u001b[39m nx\u001b[39m.\u001b[39mdrawing\u001b[39m.\u001b[39mspring_layout(G)  \u001b[39m# default to spring layout\u001b[39;00m\n\u001b[1;32m--> <a href='file:///c%3A/Code/VisualizingTwitchCommunities/env/lib/site-packages/networkx/drawing/nx_pylab.py?line=302'>303</a>\u001b[0m draw_networkx_nodes(G, pos, \u001b[39m*\u001b[39;49m\u001b[39m*\u001b[39;49mnode_kwds)\n\u001b[0;32m    <a href='file:///c%3A/Code/VisualizingTwitchCommunities/env/lib/site-packages/networkx/drawing/nx_pylab.py?line=303'>304</a>\u001b[0m draw_networkx_edges(G, pos, arrows\u001b[39m=\u001b[39marrows, \u001b[39m*\u001b[39m\u001b[39m*\u001b[39medge_kwds)\n\u001b[0;32m    <a href='file:///c%3A/Code/VisualizingTwitchCommunities/env/lib/site-packages/networkx/drawing/nx_pylab.py?line=304'>305</a>\u001b[0m \u001b[39mif\u001b[39;00m with_labels:\n",
      "File \u001b[1;32mc:\\Code\\VisualizingTwitchCommunities\\env\\lib\\site-packages\\networkx\\drawing\\nx_pylab.py:433\u001b[0m, in \u001b[0;36mdraw_networkx_nodes\u001b[1;34m(G, pos, nodelist, node_size, node_color, node_shape, alpha, cmap, vmin, vmax, ax, linewidths, edgecolors, label, margins)\u001b[0m\n\u001b[0;32m    <a href='file:///c%3A/Code/VisualizingTwitchCommunities/env/lib/site-packages/networkx/drawing/nx_pylab.py?line=429'>430</a>\u001b[0m     node_color \u001b[39m=\u001b[39m apply_alpha(node_color, alpha, nodelist, cmap, vmin, vmax)\n\u001b[0;32m    <a href='file:///c%3A/Code/VisualizingTwitchCommunities/env/lib/site-packages/networkx/drawing/nx_pylab.py?line=430'>431</a>\u001b[0m     alpha \u001b[39m=\u001b[39m \u001b[39mNone\u001b[39;00m\n\u001b[1;32m--> <a href='file:///c%3A/Code/VisualizingTwitchCommunities/env/lib/site-packages/networkx/drawing/nx_pylab.py?line=432'>433</a>\u001b[0m node_collection \u001b[39m=\u001b[39m ax\u001b[39m.\u001b[39;49mscatter(\n\u001b[0;32m    <a href='file:///c%3A/Code/VisualizingTwitchCommunities/env/lib/site-packages/networkx/drawing/nx_pylab.py?line=433'>434</a>\u001b[0m     xy[:, \u001b[39m0\u001b[39;49m],\n\u001b[0;32m    <a href='file:///c%3A/Code/VisualizingTwitchCommunities/env/lib/site-packages/networkx/drawing/nx_pylab.py?line=434'>435</a>\u001b[0m     xy[:, \u001b[39m1\u001b[39;49m],\n\u001b[0;32m    <a href='file:///c%3A/Code/VisualizingTwitchCommunities/env/lib/site-packages/networkx/drawing/nx_pylab.py?line=435'>436</a>\u001b[0m     s\u001b[39m=\u001b[39;49mnode_size,\n\u001b[0;32m    <a href='file:///c%3A/Code/VisualizingTwitchCommunities/env/lib/site-packages/networkx/drawing/nx_pylab.py?line=436'>437</a>\u001b[0m     c\u001b[39m=\u001b[39;49mnode_color,\n\u001b[0;32m    <a href='file:///c%3A/Code/VisualizingTwitchCommunities/env/lib/site-packages/networkx/drawing/nx_pylab.py?line=437'>438</a>\u001b[0m     marker\u001b[39m=\u001b[39;49mnode_shape,\n\u001b[0;32m    <a href='file:///c%3A/Code/VisualizingTwitchCommunities/env/lib/site-packages/networkx/drawing/nx_pylab.py?line=438'>439</a>\u001b[0m     cmap\u001b[39m=\u001b[39;49mcmap,\n\u001b[0;32m    <a href='file:///c%3A/Code/VisualizingTwitchCommunities/env/lib/site-packages/networkx/drawing/nx_pylab.py?line=439'>440</a>\u001b[0m     vmin\u001b[39m=\u001b[39;49mvmin,\n\u001b[0;32m    <a href='file:///c%3A/Code/VisualizingTwitchCommunities/env/lib/site-packages/networkx/drawing/nx_pylab.py?line=440'>441</a>\u001b[0m     vmax\u001b[39m=\u001b[39;49mvmax,\n\u001b[0;32m    <a href='file:///c%3A/Code/VisualizingTwitchCommunities/env/lib/site-packages/networkx/drawing/nx_pylab.py?line=441'>442</a>\u001b[0m     alpha\u001b[39m=\u001b[39;49malpha,\n\u001b[0;32m    <a href='file:///c%3A/Code/VisualizingTwitchCommunities/env/lib/site-packages/networkx/drawing/nx_pylab.py?line=442'>443</a>\u001b[0m     linewidths\u001b[39m=\u001b[39;49mlinewidths,\n\u001b[0;32m    <a href='file:///c%3A/Code/VisualizingTwitchCommunities/env/lib/site-packages/networkx/drawing/nx_pylab.py?line=443'>444</a>\u001b[0m     edgecolors\u001b[39m=\u001b[39;49medgecolors,\n\u001b[0;32m    <a href='file:///c%3A/Code/VisualizingTwitchCommunities/env/lib/site-packages/networkx/drawing/nx_pylab.py?line=444'>445</a>\u001b[0m     label\u001b[39m=\u001b[39;49mlabel,\n\u001b[0;32m    <a href='file:///c%3A/Code/VisualizingTwitchCommunities/env/lib/site-packages/networkx/drawing/nx_pylab.py?line=445'>446</a>\u001b[0m )\n\u001b[0;32m    <a href='file:///c%3A/Code/VisualizingTwitchCommunities/env/lib/site-packages/networkx/drawing/nx_pylab.py?line=446'>447</a>\u001b[0m ax\u001b[39m.\u001b[39mtick_params(\n\u001b[0;32m    <a href='file:///c%3A/Code/VisualizingTwitchCommunities/env/lib/site-packages/networkx/drawing/nx_pylab.py?line=447'>448</a>\u001b[0m     axis\u001b[39m=\u001b[39m\u001b[39m\"\u001b[39m\u001b[39mboth\u001b[39m\u001b[39m\"\u001b[39m,\n\u001b[0;32m    <a href='file:///c%3A/Code/VisualizingTwitchCommunities/env/lib/site-packages/networkx/drawing/nx_pylab.py?line=448'>449</a>\u001b[0m     which\u001b[39m=\u001b[39m\u001b[39m\"\u001b[39m\u001b[39mboth\u001b[39m\u001b[39m\"\u001b[39m,\n\u001b[1;32m   (...)\u001b[0m\n\u001b[0;32m    <a href='file:///c%3A/Code/VisualizingTwitchCommunities/env/lib/site-packages/networkx/drawing/nx_pylab.py?line=452'>453</a>\u001b[0m     labelleft\u001b[39m=\u001b[39m\u001b[39mFalse\u001b[39;00m,\n\u001b[0;32m    <a href='file:///c%3A/Code/VisualizingTwitchCommunities/env/lib/site-packages/networkx/drawing/nx_pylab.py?line=453'>454</a>\u001b[0m )\n\u001b[0;32m    <a href='file:///c%3A/Code/VisualizingTwitchCommunities/env/lib/site-packages/networkx/drawing/nx_pylab.py?line=455'>456</a>\u001b[0m \u001b[39mif\u001b[39;00m margins \u001b[39mis\u001b[39;00m \u001b[39mnot\u001b[39;00m \u001b[39mNone\u001b[39;00m:\n",
      "File \u001b[1;32mc:\\Code\\VisualizingTwitchCommunities\\env\\lib\\site-packages\\matplotlib\\__init__.py:1423\u001b[0m, in \u001b[0;36m_preprocess_data.<locals>.inner\u001b[1;34m(ax, data, *args, **kwargs)\u001b[0m\n\u001b[0;32m   <a href='file:///c%3A/Code/VisualizingTwitchCommunities/env/lib/site-packages/matplotlib/__init__.py?line=1419'>1420</a>\u001b[0m \u001b[39m@functools\u001b[39m\u001b[39m.\u001b[39mwraps(func)\n\u001b[0;32m   <a href='file:///c%3A/Code/VisualizingTwitchCommunities/env/lib/site-packages/matplotlib/__init__.py?line=1420'>1421</a>\u001b[0m \u001b[39mdef\u001b[39;00m \u001b[39minner\u001b[39m(ax, \u001b[39m*\u001b[39margs, data\u001b[39m=\u001b[39m\u001b[39mNone\u001b[39;00m, \u001b[39m*\u001b[39m\u001b[39m*\u001b[39mkwargs):\n\u001b[0;32m   <a href='file:///c%3A/Code/VisualizingTwitchCommunities/env/lib/site-packages/matplotlib/__init__.py?line=1421'>1422</a>\u001b[0m     \u001b[39mif\u001b[39;00m data \u001b[39mis\u001b[39;00m \u001b[39mNone\u001b[39;00m:\n\u001b[1;32m-> <a href='file:///c%3A/Code/VisualizingTwitchCommunities/env/lib/site-packages/matplotlib/__init__.py?line=1422'>1423</a>\u001b[0m         \u001b[39mreturn\u001b[39;00m func(ax, \u001b[39m*\u001b[39;49m\u001b[39mmap\u001b[39;49m(sanitize_sequence, args), \u001b[39m*\u001b[39;49m\u001b[39m*\u001b[39;49mkwargs)\n\u001b[0;32m   <a href='file:///c%3A/Code/VisualizingTwitchCommunities/env/lib/site-packages/matplotlib/__init__.py?line=1424'>1425</a>\u001b[0m     bound \u001b[39m=\u001b[39m new_sig\u001b[39m.\u001b[39mbind(ax, \u001b[39m*\u001b[39margs, \u001b[39m*\u001b[39m\u001b[39m*\u001b[39mkwargs)\n\u001b[0;32m   <a href='file:///c%3A/Code/VisualizingTwitchCommunities/env/lib/site-packages/matplotlib/__init__.py?line=1425'>1426</a>\u001b[0m     auto_label \u001b[39m=\u001b[39m (bound\u001b[39m.\u001b[39marguments\u001b[39m.\u001b[39mget(label_namer)\n\u001b[0;32m   <a href='file:///c%3A/Code/VisualizingTwitchCommunities/env/lib/site-packages/matplotlib/__init__.py?line=1426'>1427</a>\u001b[0m                   \u001b[39mor\u001b[39;00m bound\u001b[39m.\u001b[39mkwargs\u001b[39m.\u001b[39mget(label_namer))\n",
      "File \u001b[1;32mc:\\Code\\VisualizingTwitchCommunities\\env\\lib\\site-packages\\matplotlib\\axes\\_axes.py:4529\u001b[0m, in \u001b[0;36mAxes.scatter\u001b[1;34m(self, x, y, s, c, marker, cmap, norm, vmin, vmax, alpha, linewidths, edgecolors, plotnonfinite, **kwargs)\u001b[0m\n\u001b[0;32m   <a href='file:///c%3A/Code/VisualizingTwitchCommunities/env/lib/site-packages/matplotlib/axes/_axes.py?line=4524'>4525</a>\u001b[0m s \u001b[39m=\u001b[39m np\u001b[39m.\u001b[39mma\u001b[39m.\u001b[39mravel(s)\n\u001b[0;32m   <a href='file:///c%3A/Code/VisualizingTwitchCommunities/env/lib/site-packages/matplotlib/axes/_axes.py?line=4525'>4526</a>\u001b[0m \u001b[39mif\u001b[39;00m (\u001b[39mlen\u001b[39m(s) \u001b[39mnot\u001b[39;00m \u001b[39min\u001b[39;00m (\u001b[39m1\u001b[39m, x\u001b[39m.\u001b[39msize) \u001b[39mor\u001b[39;00m\n\u001b[0;32m   <a href='file:///c%3A/Code/VisualizingTwitchCommunities/env/lib/site-packages/matplotlib/axes/_axes.py?line=4526'>4527</a>\u001b[0m         (\u001b[39mnot\u001b[39;00m np\u001b[39m.\u001b[39missubdtype(s\u001b[39m.\u001b[39mdtype, np\u001b[39m.\u001b[39mfloating) \u001b[39mand\u001b[39;00m\n\u001b[0;32m   <a href='file:///c%3A/Code/VisualizingTwitchCommunities/env/lib/site-packages/matplotlib/axes/_axes.py?line=4527'>4528</a>\u001b[0m          \u001b[39mnot\u001b[39;00m np\u001b[39m.\u001b[39missubdtype(s\u001b[39m.\u001b[39mdtype, np\u001b[39m.\u001b[39minteger))):\n\u001b[1;32m-> <a href='file:///c%3A/Code/VisualizingTwitchCommunities/env/lib/site-packages/matplotlib/axes/_axes.py?line=4528'>4529</a>\u001b[0m     \u001b[39mraise\u001b[39;00m \u001b[39mValueError\u001b[39;00m(\n\u001b[0;32m   <a href='file:///c%3A/Code/VisualizingTwitchCommunities/env/lib/site-packages/matplotlib/axes/_axes.py?line=4529'>4530</a>\u001b[0m         \u001b[39m\"\u001b[39m\u001b[39ms must be a scalar, \u001b[39m\u001b[39m\"\u001b[39m\n\u001b[0;32m   <a href='file:///c%3A/Code/VisualizingTwitchCommunities/env/lib/site-packages/matplotlib/axes/_axes.py?line=4530'>4531</a>\u001b[0m         \u001b[39m\"\u001b[39m\u001b[39mor float array-like with the same size as x and y\u001b[39m\u001b[39m\"\u001b[39m)\n\u001b[0;32m   <a href='file:///c%3A/Code/VisualizingTwitchCommunities/env/lib/site-packages/matplotlib/axes/_axes.py?line=4532'>4533</a>\u001b[0m \u001b[39m# get the original edgecolor the user passed before we normalize\u001b[39;00m\n\u001b[0;32m   <a href='file:///c%3A/Code/VisualizingTwitchCommunities/env/lib/site-packages/matplotlib/axes/_axes.py?line=4533'>4534</a>\u001b[0m orig_edgecolor \u001b[39m=\u001b[39m edgecolors\n",
      "\u001b[1;31mValueError\u001b[0m: s must be a scalar, or float array-like with the same size as x and y"
     ]
    },
    {
     "data": {
      "image/png": "[encoded data removed]",
      "text/plain": [
       "<Figure size 1200x1200 with 1 Axes>"
      ]
     },
     "metadata": {},
     "output_type": "display_data"
    }
   ],
   "source": [
    "#Draw graph for testing\n",
    "d = nx.get_node_attributes(F, \"watch_minutes\")\n",
    "pos = nx.fruchterman_reingold_layout(F, k = 10, iterations=1000)\n",
    "edges = F.edges()\n",
    "weights = [F[u][v]['weight'] for u,v in edges]\n",
    "\n",
    "plt.figure(3,figsize=(12,12))\n",
    "nx.draw(F, pos, node_size=[v * 0.000001 for v in d.values()], width=[w * 0.0001 for w in weights], with_labels=True)"
   ]
  },
  {
   "cell_type": "code",
   "execution_count": 39,
   "metadata": {},
   "outputs": [],
   "source": [
    "#Write edgelist csv\n",
    "nx.write_edgelist(F, f'{FOCUS_CHANNEL}_graph.csv', delimiter=', ', data=['weight'])\n",
    "\n",
    "#Write nodelist csv\n",
    "csv_data = [(name, name, size, channel_orbit_map[name], 3 - channel_orbit_map[name]) for name, size in res if name in discovered_channels]\n",
    "import csv\n",
    "with open(f'{FOCUS_CHANNEL}_nodes.csv', 'w') as handle:\n",
    "    writer = csv.writer(handle)\n",
    "    writer.writerow(['id', 'label', 'size', 'orbit', 'orbit_size'])\n",
    "    writer.writerows(csv_data)"
   ]
  },
  {
   "cell_type": "code",
   "execution_count": 40,
   "metadata": {},
   "outputs": [],
   "source": [
    "#Calculate Reach (Unique chatters in data range)\n",
    "range_start = '2022-11-01 00:00:00'\n",
    "range_end = '2022-11-15 00:00:00'\n",
    "\n",
    "chatters_table = sql.Table(\"chatters\", metadata_obj, autoload_with=engine)\n"
   ]
  },
  {
   "cell_type": "code",
   "execution_count": 41,
   "metadata": {},
   "outputs": [
    {
     "name": "stdout",
     "output_type": "stream",
     "text": [
      "Getting unique viewer set for sneakylol, 0/186\n",
      "Getting unique viewer set for 39daph, 1/186\n",
      "Getting unique viewer set for teamfighttactics, 2/186\n",
      "Getting unique viewer set for dannyaarons, 3/186\n",
      "Getting unique viewer set for primeleague, 4/186\n",
      "Getting unique viewer set for moistcr1tikal, 5/186\n",
      "Getting unique viewer set for admiralbahroo, 6/186\n",
      "Getting unique viewer set for esl_csgob, 7/186\n",
      "Getting unique viewer set for emongg, 8/186\n",
      "Getting unique viewer set for nix, 9/186\n",
      "Getting unique viewer set for disguisedtoast, 10/186\n",
      "Getting unique viewer set for rocketleaguesam, 11/186\n",
      "Getting unique viewer set for folagorlives, 12/186\n",
      "Getting unique viewer set for pgl_dota2en4, 13/186\n",
      "Getting unique viewer set for otknetwork, 14/186\n",
      "Getting unique viewer set for mynthos, 15/186\n",
      "Getting unique viewer set for lacari, 16/186\n",
      "Getting unique viewer set for staysafetv, 17/186\n",
      "Getting unique viewer set for solary, 18/186\n",
      "Getting unique viewer set for otplol_, 19/186\n",
      "Getting unique viewer set for trainwreckstv, 20/186\n",
      "Getting unique viewer set for ml7support, 21/186\n",
      "Getting unique viewer set for tsm_imperialhal, 22/186\n",
      "Getting unique viewer set for brucedropemoff, 23/186\n",
      "Getting unique viewer set for illojuan, 24/186\n",
      "Getting unique viewer set for s0mcs, 25/186\n",
      "Getting unique viewer set for riotgames, 26/186\n",
      "Getting unique viewer set for elmiillor, 27/186\n",
      "Getting unique viewer set for yassuo, 28/186\n",
      "Getting unique viewer set for trymacs, 29/186\n",
      "Getting unique viewer set for zilioner, 30/186\n",
      "Getting unique viewer set for juansguarnizo, 31/186\n",
      "Getting unique viewer set for ponce, 32/186\n",
      "Getting unique viewer set for etoiles, 33/186\n",
      "Getting unique viewer set for k3soju, 34/186\n",
      "Getting unique viewer set for rocketleagueapac, 35/186\n",
      "Getting unique viewer set for kamet0, 36/186\n",
      "Getting unique viewer set for shroud, 37/186\n",
      "Getting unique viewer set for pgl_dota2en3, 38/186\n",
      "Getting unique viewer set for imls, 39/186\n",
      "Getting unique viewer set for aceu, 40/186\n",
      "Getting unique viewer set for moonmoon, 41/186\n",
      "Getting unique viewer set for rdulive, 42/186\n",
      "Getting unique viewer set for zackrawrr, 43/186\n",
      "Getting unique viewer set for quin69, 44/186\n",
      "Getting unique viewer set for ariasaki, 45/186\n",
      "Getting unique viewer set for sweetdreams, 46/186\n",
      "Getting unique viewer set for itshafu, 47/186\n",
      "Getting unique viewer set for symfuhny, 48/186\n",
      "Getting unique viewer set for drututt, 49/186\n",
      "Getting unique viewer set for tarik, 50/186\n",
      "Getting unique viewer set for lirik, 51/186\n",
      "Getting unique viewer set for elxokas, 52/186\n",
      "Getting unique viewer set for becca, 53/186\n",
      "Getting unique viewer set for botezlive, 54/186\n",
      "Getting unique viewer set for dansgaming, 55/186\n",
      "Getting unique viewer set for sunbaconrelaxer, 56/186\n",
      "Getting unique viewer set for superjj102, 57/186\n",
      "Getting unique viewer set for gmhikaru, 58/186\n",
      "Getting unique viewer set for rocketleague, 59/186\n",
      "Getting unique viewer set for gaules, 60/186\n",
      "Getting unique viewer set for a_seagull, 61/186\n",
      "Getting unique viewer set for nl_kripp, 62/186\n",
      "Getting unique viewer set for doublelift, 63/186\n",
      "Getting unique viewer set for knekro, 64/186\n",
      "Getting unique viewer set for auronplay, 65/186\n",
      "Getting unique viewer set for aminematue, 66/186\n",
      "Getting unique viewer set for maximum, 67/186\n",
      "Getting unique viewer set for hiswattson, 68/186\n",
      "Getting unique viewer set for tmxk319, 69/186\n",
      "Getting unique viewer set for runthefutmarket, 70/186\n",
      "Getting unique viewer set for bateson87, 71/186\n",
      "Getting unique viewer set for thijs, 72/186\n",
      "Getting unique viewer set for rekkles, 73/186\n",
      "Getting unique viewer set for alexelcapo, 74/186\n",
      "Getting unique viewer set for lol_nemesis, 75/186\n",
      "Getting unique viewer set for shivfps, 76/186\n",
      "Getting unique viewer set for amouranth, 77/186\n",
      "Getting unique viewer set for pieface23, 78/186\n",
      "Getting unique viewer set for iitztimmy, 79/186\n",
      "Getting unique viewer set for tolkinlol, 80/186\n",
      "Getting unique viewer set for jokerdtv, 81/186\n",
      "Getting unique viewer set for zellsis, 82/186\n",
      "Getting unique viewer set for caedrel, 83/186\n",
      "Getting unique viewer set for btssmash, 84/186\n",
      "Getting unique viewer set for pgl_dota2, 85/186\n",
      "Getting unique viewer set for esfandtv, 86/186\n",
      "Getting unique viewer set for sodapoppin, 87/186\n",
      "Getting unique viewer set for surefour, 88/186\n",
      "Getting unique viewer set for thebausffs, 89/186\n",
      "Getting unique viewer set for tenz, 90/186\n",
      "Getting unique viewer set for cohhcarnage, 91/186\n",
      "Getting unique viewer set for dogdog, 92/186\n",
      "Getting unique viewer set for teepee, 93/186\n",
      "Getting unique viewer set for zoomaa, 94/186\n",
      "Getting unique viewer set for summonersinnlive, 95/186\n",
      "Getting unique viewer set for mizkif, 96/186\n",
      "Getting unique viewer set for grubby, 97/186\n",
      "Getting unique viewer set for dopa24, 98/186\n",
      "Getting unique viewer set for ohnepixel, 99/186\n",
      "Getting unique viewer set for elspreen, 100/186\n",
      "Getting unique viewer set for redbull, 101/186\n",
      "Getting unique viewer set for kungentv, 102/186\n",
      "Getting unique viewer set for csgo_mc, 103/186\n",
      "Getting unique viewer set for chess, 104/186\n",
      "Getting unique viewer set for pikabooirl, 105/186\n",
      "Getting unique viewer set for pokimane, 106/186\n",
      "Getting unique viewer set for easportsfifa, 107/186\n",
      "Getting unique viewer set for hasanabi, 108/186\n",
      "Getting unique viewer set for trackingthepros, 109/186\n",
      "Getting unique viewer set for emiru, 110/186\n",
      "Getting unique viewer set for jankos, 111/186\n",
      "Getting unique viewer set for pgl_dota2en2, 112/186\n",
      "Getting unique viewer set for loltyler1, 113/186\n",
      "Getting unique viewer set for boxbox, 114/186\n",
      "Getting unique viewer set for iwdominate, 115/186\n",
      "Getting unique viewer set for squeezie, 116/186\n",
      "Getting unique viewer set for xqc, 117/186\n",
      "Getting unique viewer set for scump, 118/186\n",
      "Getting unique viewer set for kragiee, 119/186\n",
      "Getting unique viewer set for m0xyy, 120/186\n",
      "Getting unique viewer set for dota2ti, 121/186\n",
      "Getting unique viewer set for emilyywang, 122/186\n",
      "Getting unique viewer set for qtcinderella, 123/186\n",
      "Getting unique viewer set for fextralife, 124/186\n",
      "Getting unique viewer set for shotzzy, 125/186\n",
      "Getting unique viewer set for sinatraa, 126/186\n",
      "Getting unique viewer set for joueur_du_grenier, 127/186\n",
      "Getting unique viewer set for primevideo, 128/186\n",
      "Getting unique viewer set for subroza, 129/186\n",
      "Getting unique viewer set for dafran, 130/186\n",
      "Getting unique viewer set for imaqtpie, 131/186\n",
      "Getting unique viewer set for broxah, 132/186\n",
      "Getting unique viewer set for zerator, 133/186\n",
      "Getting unique viewer set for lvpes, 134/186\n",
      "Getting unique viewer set for castro_1021, 135/186\n",
      "Getting unique viewer set for payo, 136/186\n",
      "Getting unique viewer set for supertf, 137/186\n",
      "Getting unique viewer set for hanryang1125, 138/186\n",
      "Getting unique viewer set for summit1g, 139/186\n",
      "Getting unique viewer set for ratirl, 140/186\n",
      "Getting unique viewer set for tarzaned, 141/186\n",
      "Getting unique viewer set for lck_korea, 142/186\n",
      "Getting unique viewer set for halo, 143/186\n",
      "Getting unique viewer set for rush, 144/186\n",
      "Getting unique viewer set for chap_gg, 145/186\n",
      "Getting unique viewer set for agurin, 146/186\n",
      "Getting unique viewer set for nickmercs, 147/186\n",
      "Getting unique viewer set for maxim, 148/186\n",
      "Getting unique viewer set for kaicenat, 149/186\n",
      "Getting unique viewer set for sologesang, 150/186\n",
      "Getting unique viewer set for sardoche, 151/186\n",
      "Getting unique viewer set for esl_csgo, 152/186\n",
      "Getting unique viewer set for asunaweeb, 153/186\n",
      "Getting unique viewer set for thegrefg, 154/186\n",
      "Getting unique viewer set for sanchovies, 155/186\n",
      "Getting unique viewer set for gorgc, 156/186\n",
      "Getting unique viewer set for lol_woolf, 157/186\n",
      "Getting unique viewer set for mande, 158/186\n",
      "Getting unique viewer set for nmplol, 159/186\n",
      "Getting unique viewer set for naowh, 160/186\n",
      "Getting unique viewer set for elotrix, 161/186\n",
      "Getting unique viewer set for montanablack88, 162/186\n",
      "Getting unique viewer set for rubius, 163/186\n",
      "Getting unique viewer set for dashy, 164/186\n",
      "Getting unique viewer set for midbeast, 165/186\n",
      "Getting unique viewer set for shahzam, 166/186\n",
      "Getting unique viewer set for yourragegaming, 167/186\n",
      "Getting unique viewer set for noway4u_sir, 168/186\n",
      "Getting unique viewer set for aydan, 169/186\n",
      "Getting unique viewer set for aba4647, 170/186\n",
      "Getting unique viewer set for forsen, 171/186\n",
      "Getting unique viewer set for adinross, 172/186\n",
      "Getting unique viewer set for ibai, 173/186\n",
      "Getting unique viewer set for gotaga, 174/186\n",
      "Getting unique viewer set for nadia, 175/186\n",
      "Getting unique viewer set for llilka, 176/186\n",
      "Getting unique viewer set for antoinedaniel, 177/186\n",
      "Getting unique viewer set for kyedae, 178/186\n",
      "Getting unique viewer set for tfblade, 179/186\n",
      "Getting unique viewer set for qojqva, 180/186\n",
      "Getting unique viewer set for handongsuk, 181/186\n",
      "Getting unique viewer set for chessbrah, 182/186\n",
      "Getting unique viewer set for domingo, 183/186\n",
      "Getting unique viewer set for maoruya, 184/186\n",
      "Getting unique viewer set for pokelawls, 185/186\n"
     ]
    }
   ],
   "source": [
    "channel_uv_map = {}\n",
    "counter = 0 \n",
    "for channel in discovered_channels:\n",
    "    print(f\"Getting unique viewer set for {channel}, {counter}/{len(discovered_channels)}\")\n",
    "    stmt = sql.select(chatters_table.c.chatters_json).where( \\\n",
    "        (chatters_table.c.url_name == channel) & \\\n",
    "        (chatters_table.c.log_time > range_start) & \\\n",
    "        (chatters_table.c.log_time < range_end))\n",
    "    \n",
    "    with engine.connect() as conn:\n",
    "        all_chatters = conn.execute(stmt).fetchall()\n",
    "    \n",
    "    num_unique_viewers = set()\n",
    "    for chatters in all_chatters:\n",
    "\n",
    "        chatters = chatters[0]['chatters']\n",
    "        num_unique_viewers = num_unique_viewers.union(chatters)\n",
    "    \n",
    "    channel_uv_map[channel] = len(num_unique_viewers)\n",
    "    counter += 1"
   ]
  },
  {
   "cell_type": "code",
   "execution_count": 52,
   "metadata": {},
   "outputs": [],
   "source": [
    "reach_csv_data = []\n",
    "for channel, unique_viewers in channel_uv_map.items():\n",
    "    reach_csv_data.append([channel, unique_viewers])\n",
    "\n",
    "import csv\n",
    "with open(f'{FOCUS_CHANNEL}_reach.csv', 'w') as handle:\n",
    "    writer = csv.writer(handle)\n",
    "    writer.writerow(['Channel', 'Unique Viewer Count'])\n",
    "    writer.writerows(reach_csv_data)"
   ]
  },
  {
   "cell_type": "code",
   "execution_count": null,
   "metadata": {},
   "outputs": [],
   "source": []
  }
 ],
 "metadata": {
  "interpreter": {
   "hash": "107e824a150bee1383a6814a260800c1f1aa20d9ae20a19cbdcfebf62d3dbcde"
  },
  "kernelspec": {
   "display_name": "Python 3.8.9 ('env': venv)",
   "language": "python",
   "name": "python3"
  },
  "language_info": {
   "codemirror_mode": {
    "name": "ipython",
    "version": 3
   },
   "file_extension": ".py",
   "mimetype": "text/x-python",
   "name": "python",
   "nbconvert_exporter": "python",
   "pygments_lexer": "ipython3",
   "version": "3.8.9"
  },
  "orig_nbformat": 4
 },
 "nbformat": 4,
 "nbformat_minor": 2
}
