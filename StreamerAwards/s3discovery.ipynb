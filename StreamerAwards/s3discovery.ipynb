{
 "cells": [
  {
   "cell_type": "code",
   "execution_count": 42,
   "metadata": {},
   "outputs": [
    {
     "data": {
      "text/plain": [
       "True"
      ]
     },
     "execution_count": 42,
     "metadata": {},
     "output_type": "execute_result"
    }
   ],
   "source": [
    "import sqlalchemy as sql\n",
    "import os\n",
    "from dotenv import load_dotenv\n",
    "import boto3\n",
    "import pickle as pkl\n",
    "import json\n",
    "import sqlalchemy as sql\n",
    "\n",
    "load_dotenv()"
   ]
  },
  {
   "cell_type": "code",
   "execution_count": 43,
   "metadata": {},
   "outputs": [
    {
     "name": "stdout",
     "output_type": "stream",
     "text": [
      "2200\n"
     ]
    }
   ],
   "source": [
    "\n",
    "with open(\"SeptemberTwitchOverlapCounts.pkl\",'rb') as handle:\n",
    "    obj = pkl.load(handle)\n",
    "\n",
    "channels_with_old_data = set()\n",
    "for channel_overlaps in obj:\n",
    "    channels_with_old_data.add(channel_overlaps.lower())\n",
    "    for target in obj[channel_overlaps]:\n",
    "        channels_with_old_data.add(target.lower())\n",
    "\n",
    "print(len(channels_with_old_data))\n"
   ]
  },
  {
   "cell_type": "code",
   "execution_count": 44,
   "metadata": {},
   "outputs": [],
   "source": [
    "#Connect to database\n",
    "engine = sql.create_engine(os.environ.get(\"DB_URL\"))\n",
    "metadata_obj = sql.MetaData()\n",
    "channels_table = sql.Table(\"channels\", metadata_obj, autoload_with=engine)"
   ]
  },
  {
   "cell_type": "code",
   "execution_count": 45,
   "metadata": {},
   "outputs": [
    {
     "data": {
      "text/plain": [
       "1676"
      ]
     },
     "execution_count": 45,
     "metadata": {},
     "output_type": "execute_result"
    }
   ],
   "source": [
    "stmt = sql.select(channels_table.c.url_name)\n",
    "with engine.connect() as conn:\n",
    "    res = conn.execute(stmt).fetchall()\n",
    "\n",
    "res = [tup[0].lower() for tup in res]\n",
    "channels_with_current_data = set(res)\n",
    "len(channels_with_current_data)"
   ]
  },
  {
   "cell_type": "code",
   "execution_count": 46,
   "metadata": {},
   "outputs": [],
   "source": [
    "channels_with_old_but_not_new_data = channels_with_old_data.difference(channels_with_current_data)"
   ]
  },
  {
   "cell_type": "code",
   "execution_count": 47,
   "metadata": {},
   "outputs": [
    {
     "data": {
      "text/plain": [
       "1218"
      ]
     },
     "execution_count": 47,
     "metadata": {},
     "output_type": "execute_result"
    }
   ],
   "source": [
    "len(channels_with_old_but_not_new_data)"
   ]
  },
  {
   "cell_type": "code",
   "execution_count": 82,
   "metadata": {},
   "outputs": [
    {
     "name": "stdout",
     "output_type": "stream",
     "text": [
      "valkyrae\n"
     ]
    }
   ],
   "source": [
    "streamers_of_interest = ['ludwig', 'fuslie', 'sykkuno', 'myth', 'lilypichu', 'valkyrae', 'timthetatman', 'nickmercs']\n",
    "\n",
    "for streamer in streamers_of_interest:\n",
    "    if(streamer not in channels_with_old_data):\n",
    "        print(streamer)"
   ]
  },
  {
   "cell_type": "code",
   "execution_count": 89,
   "metadata": {},
   "outputs": [
    {
     "data": {
      "text/plain": [
       "7"
      ]
     },
     "execution_count": 89,
     "metadata": {},
     "output_type": "execute_result"
    }
   ],
   "source": [
    "single_channel = 'timthetatman'\n",
    "single_channel_overlaps = []\n",
    "for source in obj:\n",
    "    for target in obj[source]:\n",
    "        if source.lower() == single_channel:\n",
    "            single_channel_overlaps.append((source, target))\n",
    "        else:\n",
    "            if(target.lower() == single_channel):\n",
    "                single_channel_overlaps.append((target, source))\n",
    "\n",
    "len(single_channel_overlaps)"
   ]
  },
  {
   "cell_type": "code",
   "execution_count": 91,
   "metadata": {},
   "outputs": [
    {
     "data": {
      "text/plain": [
       "{'cloakzy', 'ludwig', 'nickmercs', 'shroud', 'sodapoppin', 'summit1g', 'xqcow'}"
      ]
     },
     "execution_count": 91,
     "metadata": {},
     "output_type": "execute_result"
    }
   ],
   "source": [
    "single_channel_targets"
   ]
  },
  {
   "cell_type": "code",
   "execution_count": 90,
   "metadata": {},
   "outputs": [
    {
     "name": "stdout",
     "output_type": "stream",
     "text": [
      "5\n"
     ]
    }
   ],
   "source": [
    "single_channel_targets = set([tup[1].lower() for tup in single_channel_overlaps])\n",
    "print(len(single_channel_targets.intersection(channels_with_current_data)))\n"
   ]
  },
  {
   "cell_type": "code",
   "execution_count": 92,
   "metadata": {},
   "outputs": [
    {
     "data": {
      "text/plain": [
       "{'cloakzy', 'nickmercs', 'shroud', 'sodapoppin', 'summit1g'}"
      ]
     },
     "execution_count": 92,
     "metadata": {},
     "output_type": "execute_result"
    }
   ],
   "source": [
    "single_channel_targets.intersection(channels_with_current_data)"
   ]
  },
  {
   "cell_type": "code",
   "execution_count": null,
   "metadata": {},
   "outputs": [],
   "source": []
  },
  {
   "cell_type": "code",
   "execution_count": null,
   "metadata": {},
   "outputs": [],
   "source": []
  }
 ],
 "metadata": {
  "interpreter": {
   "hash": "107e824a150bee1383a6814a260800c1f1aa20d9ae20a19cbdcfebf62d3dbcde"
  },
  "kernelspec": {
   "display_name": "Python 3.8.9 ('env': venv)",
   "language": "python",
   "name": "python3"
  },
  "language_info": {
   "codemirror_mode": {
    "name": "ipython",
    "version": 3
   },
   "file_extension": ".py",
   "mimetype": "text/x-python",
   "name": "python",
   "nbconvert_exporter": "python",
   "pygments_lexer": "ipython3",
   "version": "3.8.9"
  },
  "orig_nbformat": 4
 },
 "nbformat": 4,
 "nbformat_minor": 2
}
